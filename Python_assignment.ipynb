{
  "nbformat": 4,
  "nbformat_minor": 0,
  "metadata": {
    "colab": {
      "provenance": [],
      "authorship_tag": "ABX9TyO15eS1YZyAqBmh0hKPtGHU",
      "include_colab_link": true
    },
    "kernelspec": {
      "name": "python3",
      "display_name": "Python 3"
    },
    "language_info": {
      "name": "python"
    }
  },
  "cells": [
    {
      "cell_type": "markdown",
      "metadata": {
        "id": "view-in-github",
        "colab_type": "text"
      },
      "source": [
        "<a href=\"https://colab.research.google.com/github/maulikk3/Mini-Project-1/blob/main/Python_assignment.ipynb\" target=\"_parent\"><img src=\"https://colab.research.google.com/assets/colab-badge.svg\" alt=\"Open In Colab\"/></a>"
      ]
    },
    {
      "cell_type": "markdown",
      "source": [
        "Q1. L is a list defined as L= [11, 12, 13, 14].\n",
        "(i) WAP to add 50 and 60 to L.\n",
        "(ii) WAP to remove 11 and 13from L.\n",
        "(iii) WAP to sort L in ascending order.\n",
        "(iv) WAP to sort L in descending order.\n",
        "(v) WAP to search for 13 in L.\n",
        "(vi) WAP to count the number of elements present in L.\n",
        "(vii) WAP to sum all the elements in L.\n",
        "(viii) WAP to sum all ODD numbers in L.\n",
        "(ix) WAP to sum all EVEN numbers in L.\n",
        "(x) WAP to sum all PRIME numbers in L.\n",
        "(xi) WAP to clear all the elements in L.\n",
        "(xii) WAP to delete L."
      ],
      "metadata": {
        "id": "29gEOeUJOV6h"
      }
    },
    {
      "cell_type": "code",
      "execution_count": 15,
      "metadata": {
        "colab": {
          "base_uri": "https://localhost:8080/"
        },
        "id": "i8a7R3jKNsl_",
        "outputId": "6b664774-f33f-4328-8f7f-72d442c8649c"
      },
      "outputs": [
        {
          "output_type": "stream",
          "name": "stdout",
          "text": [
            "[11, 12, 13, 14]\n",
            "[11, 12, 13, 14, 50, 60]\n",
            "[12, 14, 50, 60]\n",
            "[12, 14, 50, 60]\n",
            "[60, 50, 14, 12]\n",
            "not present\n",
            "4\n",
            "136\n",
            "0\n",
            "136\n",
            "sum of even number 136\n",
            "0\n",
            "[]\n"
          ]
        }
      ],
      "source": [
        "l=[11,12,13,14]\n",
        "print(l)\n",
        "# adding element in the list\n",
        "l.append(50)\n",
        "l.append(60)\n",
        "print(l)\n",
        "# remove the element from the list\n",
        "l.remove(11)\n",
        "l.remove(13)\n",
        "print(l)\n",
        "# Sort the list\n",
        "l.sort()\n",
        "print(l)\n",
        "# reverse the list\n",
        "l.sort(reverse=True)\n",
        "print(l)\n",
        "# to search  in the list\n",
        "# n=int(input(\"enter your number\"))\n",
        "if 13 in l:\n",
        "  print(\"presnt\")\n",
        "else:\n",
        "  print(\"not present\")\n",
        "# count the all the element in the list\n",
        "print(len(l))\n",
        "# sum of all the element in the list\n",
        "print(sum(l))\n",
        "# sum of all the odd number\n",
        "odd_sum=0\n",
        "for i in l:\n",
        "  if i%2!=0:\n",
        "    odd_sum+=i\n",
        "print(odd_sum)\n",
        "# sum of even number\n",
        "even_sum=0\n",
        "for i in l:\n",
        "  if i%2==0:\n",
        "    even_sum+=i\n",
        "print(even_sum)\n",
        "# version 2\n",
        "print(\"sum of even number\",sum(i for i in l if i%2==0))\n",
        "# sum of all the prime number\n",
        "def is_prime(n):\n",
        "    if n < 2:\n",
        "        return False\n",
        "    for i in range(2, n//2+1):\n",
        "        if n % i == 0:\n",
        "            return False\n",
        "    return True\n",
        "print(sum(x for x in l if is_prime(x)))\n",
        "# clear the list\n",
        "l.clear()\n",
        "print(l)\n",
        "# delete the list\n",
        "del l\n",
        "\n",
        "\n",
        "\n"
      ]
    },
    {
      "cell_type": "markdown",
      "source": [
        "Q2. D is a dictionary defined as D= {1:5.6, 2:7.8, 3:6.6, 4:8.7, 5:7.7}. (i) WAP to add new entry in D; key=8 and value is 8.8 (ii) WAP to remove key=2. (iii) WAP to check weather 6 key is present in D. (iv) WAP to count the number of elements present in D. (v) WAP to add all the values present D. (vi) WAP to update the value of 3 to 7.1. (vii)WAP to clear the dictionary."
      ],
      "metadata": {
        "id": "_UvM3V6NS2o-"
      }
    },
    {
      "cell_type": "code",
      "source": [
        "d={1:5.6,2:7.8,3:6.6,4:8.7,5:7.7}\n",
        "print(d)\n",
        "# to add the new entry\n",
        "d[8]=8.8\n",
        "print(d)\n",
        "# remove the element\n",
        "d.pop(2)\n",
        "print(d)\n",
        "# check the element\n",
        "if 1 in d:\n",
        "  print(\"present\")\n",
        "else:\n",
        "  print(\"not present\")\n",
        "# version 2\n",
        "print(6 in d)\n",
        "# count the  element\n",
        "print(len(d))\n",
        "# add all the element\n",
        "print(\"sum\",sum(d.values()))\n",
        "# update the values in d\n",
        "d[3]=7.1\n",
        "print(d)\n",
        "# clear the dictionary\n",
        "d.clear()\n",
        "print(d)\n",
        "del(d)\n"
      ],
      "metadata": {
        "colab": {
          "base_uri": "https://localhost:8080/"
        },
        "id": "HDfGPynNS7-N",
        "outputId": "7683e7fa-dca9-4b84-fcef-77492ac2b482"
      },
      "execution_count": 34,
      "outputs": [
        {
          "output_type": "stream",
          "name": "stdout",
          "text": [
            "{1: 5.6, 2: 7.8, 3: 6.6, 4: 8.7, 5: 7.7}\n",
            "{1: 5.6, 2: 7.8, 3: 6.6, 4: 8.7, 5: 7.7, 8: 8.8}\n",
            "{1: 5.6, 3: 6.6, 4: 8.7, 5: 7.7, 8: 8.8}\n",
            "present\n",
            "False\n",
            "5\n",
            "sum 37.4\n",
            "{1: 5.6, 3: 7.1, 4: 8.7, 5: 7.7, 8: 8.8}\n",
            "{}\n"
          ]
        }
      ]
    },
    {
      "cell_type": "markdown",
      "source": [
        "Q3. S1 is a set defined as S1= [10, 20, 30, 40, 50, 60]. S2 is a set defined as S2= [40, 50, 60, 70, 80, 90]. (i) WAP to add 55 and 66 in Set S1. (ii) WAP to remove 10 and 30 from Set S1. (iii) WAP to check whether 40 is present in S1. (iv) WAP to find the union between S1 and S2. (v) WAP to find the intersection between S1 and S2. (vi) WAP to find the S1 - S2.\n"
      ],
      "metadata": {
        "id": "VsGBPXvDWQzd"
      }
    },
    {
      "cell_type": "code",
      "source": [
        "s1={10,20,30,40,50,60}\n",
        "s2={40,50,60,70,80,90}\n",
        "print(s1)\n",
        "print(s2)\n",
        "# add the values in set\n",
        "s1.add(55)\n",
        "s1.add(66)\n",
        "print(s1)\n",
        "# remove the element\n",
        "s1.remove(10)\n",
        "s1.remove(30)\n",
        "print(s1)\n",
        "# check the element\n",
        "print(40 in s1)\n",
        "# uninon between s1 and s2\n",
        "print(s1.union(s2))\n",
        "# intersection between s1 and s2\n",
        "print(s1.intersection(s2))\n",
        "# difference between s1 and s2\n",
        "print(s1.difference(s2))\n"
      ],
      "metadata": {
        "colab": {
          "base_uri": "https://localhost:8080/"
        },
        "id": "AGhCzivqWaFV",
        "outputId": "7d47b506-ce93-4727-9a74-18f1d4665334"
      },
      "execution_count": 39,
      "outputs": [
        {
          "output_type": "stream",
          "name": "stdout",
          "text": [
            "{50, 20, 40, 10, 60, 30}\n",
            "{80, 50, 70, 40, 90, 60}\n",
            "{50, 66, 20, 55, 40, 10, 60, 30}\n",
            "{50, 66, 20, 55, 40, 60}\n",
            "True\n",
            "{66, 70, 40, 80, 50, 20, 55, 90, 60}\n",
            "{40, 50, 60}\n",
            "{66, 20, 55}\n"
          ]
        }
      ]
    },
    {
      "cell_type": "markdown",
      "source": [
        "Q4. Write the following program. (i) WAP to print 100 random strings whose length between 6 and 8. (ii) WAP to print all prime numbers between 600 and 800. (iii)WAP to print all numbers between 100 and 1000 that are divisible by7 and 9."
      ],
      "metadata": {
        "id": "1X1qfpPpZC78"
      }
    },
    {
      "cell_type": "code",
      "source": [
        "#print random string\n",
        "import random\n",
        "import string\n",
        "\n",
        "for i in range(100):\n",
        "    length = random.randint(6, 8)\n",
        "    rand_str = ''.join(random.choices(string.ascii_letters , k=length))\n",
        "    print(rand_str)\n",
        "#print prime number\n",
        "def is_prime(n):\n",
        "    if n < 2:\n",
        "        return False\n",
        "    for i in range(2, int(n//2)+1):\n",
        "        if n % i == 0:\n",
        "            return False\n",
        "    return True\n",
        "\n",
        "for i in range(600, 801):\n",
        "    if is_prime(i):\n",
        "        print(i)\n",
        "#print divsible  number between 7 and 9\n",
        "for i in range(100, 1001):\n",
        "    if i % 7 == 0 and i % 9 == 0:\n",
        "        print(i)"
      ],
      "metadata": {
        "colab": {
          "base_uri": "https://localhost:8080/"
        },
        "id": "Y1BH7v-CX3Wy",
        "outputId": "3e067516-0200-428d-ecc0-8cfee4f1ac7c"
      },
      "execution_count": 41,
      "outputs": [
        {
          "output_type": "stream",
          "name": "stdout",
          "text": [
            "dFQGcUNo\n",
            "UZGQTdFW\n",
            "KwdrLNyq\n",
            "VEtLvGmr\n",
            "PNetGRJU\n",
            "vJxrpGRm\n",
            "OiZUoNfS\n",
            "OrwmtUMp\n",
            "EcURGk\n",
            "AyQoUH\n",
            "vYvDPw\n",
            "bnBqmzF\n",
            "rzzwyvnB\n",
            "gHDCMl\n",
            "OAeXpUA\n",
            "sxfcLGvl\n",
            "MvYJdcE\n",
            "bZDrEkAB\n",
            "chWAIGXm\n",
            "IdJLmp\n",
            "twfxWL\n",
            "aRiFvXB\n",
            "Bphgsl\n",
            "ChwlMD\n",
            "vYqAAQ\n",
            "giiijUJ\n",
            "rhxgJSJo\n",
            "gbhQIb\n",
            "iTStEqem\n",
            "dxyHRC\n",
            "HzerzAOf\n",
            "mfMohRBB\n",
            "AUVcDi\n",
            "mCjFVobE\n",
            "RFgIptS\n",
            "GXIbdd\n",
            "ybbnJRmi\n",
            "wDYDxlrI\n",
            "yzwsiuw\n",
            "UzWUMJ\n",
            "moQhuY\n",
            "puSBukKN\n",
            "bdEKJiEV\n",
            "IpapeOy\n",
            "gAvhoARY\n",
            "lMIBtmae\n",
            "zhqetmti\n",
            "rkMiZuzO\n",
            "WTeWagdV\n",
            "WumRvCn\n",
            "DKCrAG\n",
            "Wqwnbans\n",
            "EaVwLQ\n",
            "yGdPqSr\n",
            "VRqgeB\n",
            "KevYovI\n",
            "baxZSU\n",
            "SbCHGNDV\n",
            "zveHNj\n",
            "eBxqgqjF\n",
            "qUFnxrT\n",
            "OOPEllE\n",
            "UmbhWE\n",
            "BsvaRJf\n",
            "XemTSsTz\n",
            "RGVDsLJ\n",
            "KrGuXK\n",
            "PQdkIDHS\n",
            "JObYVKXc\n",
            "LwceLsJr\n",
            "pcRQTKFk\n",
            "PjHZzQIh\n",
            "ltLlDyEM\n",
            "OiRXKri\n",
            "NZkANAUS\n",
            "VcAzqtpD\n",
            "nIYoLH\n",
            "qRzoaGac\n",
            "ZjHFGkG\n",
            "RXqXSJh\n",
            "dLLWVw\n",
            "pSwEkys\n",
            "KgDSkZHV\n",
            "wbahFXls\n",
            "GEGVuGJ\n",
            "tZCXNC\n",
            "xoUfKrxw\n",
            "frmeIrN\n",
            "htXDap\n",
            "IzMkCbP\n",
            "MKusThg\n",
            "owvdXJa\n",
            "xIKmnDmk\n",
            "dYQrggl\n",
            "CRjlvlt\n",
            "YRBjfn\n",
            "xKqTdQY\n",
            "mLhfxvg\n",
            "JFvKex\n",
            "hiWosCe\n",
            "601\n",
            "607\n",
            "613\n",
            "617\n",
            "619\n",
            "631\n",
            "641\n",
            "643\n",
            "647\n",
            "653\n",
            "659\n",
            "661\n",
            "673\n",
            "677\n",
            "683\n",
            "691\n",
            "701\n",
            "709\n",
            "719\n",
            "727\n",
            "733\n",
            "739\n",
            "743\n",
            "751\n",
            "757\n",
            "761\n",
            "769\n",
            "773\n",
            "787\n",
            "797\n",
            "126\n",
            "189\n",
            "252\n",
            "315\n",
            "378\n",
            "441\n",
            "504\n",
            "567\n",
            "630\n",
            "693\n",
            "756\n",
            "819\n",
            "882\n",
            "945\n"
          ]
        }
      ]
    },
    {
      "cell_type": "markdown",
      "source": [
        "Q5. WAP to create two lists of 10 random numbers between 10 and 30; Find (i)Common numbers in the two lists (ii) Unique numbers in both the list (iii)Minimum in both the list (iv) Maximum in both the list (v) Sum of both the lists"
      ],
      "metadata": {
        "id": "6VfiRqPNZIJH"
      }
    },
    {
      "cell_type": "code",
      "source": [
        "import random\n",
        "# create the two list with 10 random number between 10 and 30\n",
        "list1 =[random.randint(10,30) for i in range(10)]\n",
        "list2 =[random.randint(10,30) for i in range(10)]\n",
        "print(list1)\n",
        "print(list2)\n",
        "# common numbers\n",
        "common= list (set(list1)&set(list2))\n",
        "print(common)\n",
        "# unique numebrs\n",
        "unique=list(set(list1)^set(list2))\n",
        "print(unique)\n",
        "# minimum in the list\n",
        "print(min(list1))\n",
        "print(min(list2))\n",
        "# maximum in the list\n",
        "print(max(list1))\n",
        "print(max(list2))\n",
        "# sum of the both list\n",
        "print(sum(list1))\n",
        "print(sum(list2))\n",
        "print(sum(list1+list2))"
      ],
      "metadata": {
        "colab": {
          "base_uri": "https://localhost:8080/"
        },
        "id": "oGo9ST_-ZN_r",
        "outputId": "486cb87d-0e4c-4f13-abed-5576cf499f25"
      },
      "execution_count": 46,
      "outputs": [
        {
          "output_type": "stream",
          "name": "stdout",
          "text": [
            "[19, 28, 22, 30, 26, 16, 16, 26, 29, 17]\n",
            "[13, 12, 19, 16, 26, 18, 29, 30, 29, 23]\n",
            "[16, 19, 26, 29, 30]\n",
            "[12, 13, 17, 18, 22, 23, 28]\n",
            "16\n",
            "12\n",
            "30\n",
            "30\n",
            "229\n",
            "215\n",
            "444\n"
          ]
        }
      ]
    },
    {
      "cell_type": "markdown",
      "source": [
        "Q6. WAP to create a list of 100 random numbers between 100 and 900. Count and print the: (i) All odd numbers (ii) All even numbers (iii) All prime numbers\n",
        "\n"
      ],
      "metadata": {
        "id": "IGurGzMca5Ds"
      }
    },
    {
      "cell_type": "code",
      "source": [
        "import random\n",
        "numbers=[random.randint(100,900) for i in range (100)]\n",
        "print(numbers)\n",
        "# for all the odd numebrs\n",
        "odd_numbers=[i for i in numbers if i%2 !=0]\n",
        "print(odd_numbers)\n",
        "print(len(odd_numbers))\n",
        "# for all the even numbers\n",
        "even_numbers= [x for x in numbers if x % 2 == 0]\n",
        "print(\"Even numbers:\", even_numbers)\n",
        "print(\"Count of even =\", len(even_numbers))\n",
        "# all prime numbers\n",
        "def is_prime(n):\n",
        "    if n < 2:\n",
        "        return False\n",
        "    for i in range(2, int(n//2) + 1):\n",
        "        if n % i == 0:\n",
        "            return False\n",
        "    return True\n",
        "\n",
        "prime_numbers = [x for x in numbers if is_prime(x)]\n",
        "print(\"Prime numbers=\", prime_numbers)\n",
        "print(\"Count of prime numbers=\", len(prime_numbers))\n"
      ],
      "metadata": {
        "colab": {
          "base_uri": "https://localhost:8080/"
        },
        "id": "Y-EUnnK2a88I",
        "outputId": "5eeea88c-63c6-4c64-d3a6-7eec1efbf29d"
      },
      "execution_count": 60,
      "outputs": [
        {
          "output_type": "stream",
          "name": "stdout",
          "text": [
            "[795, 452, 882, 358, 847, 349, 886, 746, 179, 749, 171, 295, 380, 630, 329, 741, 134, 774, 557, 231, 310, 717, 799, 203, 556, 733, 854, 881, 447, 598, 396, 764, 740, 113, 282, 639, 193, 750, 743, 887, 112, 349, 762, 699, 861, 321, 651, 602, 235, 296, 594, 567, 286, 455, 462, 779, 197, 187, 571, 215, 374, 697, 142, 472, 234, 194, 265, 409, 815, 853, 451, 187, 553, 197, 838, 136, 689, 740, 114, 644, 874, 303, 887, 274, 481, 307, 115, 434, 571, 554, 151, 745, 533, 447, 225, 308, 745, 853, 435, 160]\n",
            "[795, 847, 349, 179, 749, 171, 295, 329, 741, 557, 231, 717, 799, 203, 733, 881, 447, 113, 639, 193, 743, 887, 349, 699, 861, 321, 651, 235, 567, 455, 779, 197, 187, 571, 215, 697, 265, 409, 815, 853, 451, 187, 553, 197, 689, 303, 887, 481, 307, 115, 571, 151, 745, 533, 447, 225, 745, 853, 435]\n",
            "59\n",
            "Even numbers: [452, 882, 358, 886, 746, 380, 630, 134, 774, 310, 556, 854, 598, 396, 764, 740, 282, 750, 112, 762, 602, 296, 594, 286, 462, 374, 142, 472, 234, 194, 838, 136, 740, 114, 644, 874, 274, 434, 554, 308, 160]\n",
            "Count of even = 41\n",
            "Prime numbers= [349, 179, 557, 733, 881, 113, 193, 743, 887, 349, 197, 571, 409, 853, 197, 887, 307, 571, 151, 853]\n",
            "Count of prime numbers= 20\n"
          ]
        }
      ]
    },
    {
      "cell_type": "markdown",
      "source": [],
      "metadata": {
        "id": "HsQ8ThQ4ddQ7"
      }
    },
    {
      "cell_type": "markdown",
      "source": [
        "Q7. D is a dictionary defined as D={1:\"One\",2:\"Two\",3:\"Three\",4:\"Four\", 5:\"Five\"}.\n",
        "WAP to read all the keys and values from dictionary and write to the file in the given below format.\n",
        "Key1, Value1\n",
        "Key2, Value2\n",
        "Key3, Value3\n"
      ],
      "metadata": {
        "id": "aQD589jSOLjE"
      }
    },
    {
      "cell_type": "code",
      "source": [
        "D = {1: \"One\", 2: \"Two\", 3: \"Three\", 4: \"Four\", 5: \"Five\"}\n",
        "\n",
        "with open(\"file.txt\", \"w\") as file:\n",
        "    for key, value in D.items():\n",
        "        file.write(f\"{key}, {value}\\n\")"
      ],
      "metadata": {
        "id": "GCnZLyh9dgn3"
      },
      "execution_count": null,
      "outputs": []
    },
    {
      "cell_type": "markdown",
      "source": [
        "Q8. Write to the file 100 random strings whose length between 10 and 15"
      ],
      "metadata": {
        "id": "WY3vMMANdzlb"
      }
    },
    {
      "cell_type": "code",
      "source": [
        "import random\n",
        "import string\n",
        "\n",
        "with open(\"random_strings.txt\", \"w\") as file:\n",
        "    for i in range(100):\n",
        "        length = random.randint(10, 15)\n",
        "        rand_str = ''.join(random.choices(string.ascii_letters + string.digits, k=length))\n",
        "        file.write(rand_str + \"\\n\")\n"
      ],
      "metadata": {
        "id": "O5k1aa-1d3vY"
      },
      "execution_count": null,
      "outputs": []
    },
    {
      "cell_type": "markdown",
      "source": [
        "Q9. Write to the file all prime numbers between 600 and 800."
      ],
      "metadata": {
        "id": "Pz8i2z2hd7Bi"
      }
    },
    {
      "cell_type": "code",
      "source": [
        "def is_prime(n):\n",
        "    if n < 2:\n",
        "        return False\n",
        "    for i in range(2, int(n//2) + 1):\n",
        "        if n % i == 0:\n",
        "            return False\n",
        "            print(is_prime(11))\n",
        "    return True\n",
        "print(is_prime(11))"
      ],
      "metadata": {
        "colab": {
          "base_uri": "https://localhost:8080/"
        },
        "id": "WfVIchUrd9os",
        "outputId": "9ab47f77-2ff5-4d91-c533-3674f0ad2283"
      },
      "execution_count": 63,
      "outputs": [
        {
          "output_type": "stream",
          "name": "stdout",
          "text": [
            "True\n"
          ]
        }
      ]
    }
  ]
}